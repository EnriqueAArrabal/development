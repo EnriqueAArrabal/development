{
 "cells": [
  {
   "cell_type": "code",
   "execution_count": 1,
   "id": "259cf2e8",
   "metadata": {},
   "outputs": [
    {
     "name": "stdout",
     "output_type": "stream",
     "text": [
      "loading annotations into memory...\n",
      "Done (t=0.78s)\n",
      "creating index...\n",
      "index created!\n"
     ]
    },
    {
     "name": "stderr",
     "output_type": "stream",
     "text": [
      "Copiando imágenes con vehículos: 100%|██████████| 870/870 [00:02<00:00, 309.75it/s]"
     ]
    },
    {
     "name": "stdout",
     "output_type": "stream",
     "text": [
      "\n",
      "✅ 870 imágenes copiadas a ./COCO/images/vehicles_val2017\n"
     ]
    },
    {
     "name": "stderr",
     "output_type": "stream",
     "text": [
      "\n"
     ]
    }
   ],
   "source": [
    "import os\n",
    "import shutil\n",
    "from pycocotools.coco import COCO\n",
    "from tqdm import tqdm\n",
    "\n",
    "# Paths\n",
    "image_dir = \"./COCO/images/val2017\"\n",
    "instances_path = \"./COCO/annotations/instances_val2017.json\"\n",
    "output_dir = \"./COCO/images/vehicles_val2017\"\n",
    "\n",
    "# Clases que queremos filtrar\n",
    "vehicle_classes = [\"car\", \"motorcycle\", \"bus\", \"truck\", \"bicycle\"]\n",
    "\n",
    "# Crear carpeta destino si no existe\n",
    "os.makedirs(output_dir, exist_ok=True)\n",
    "\n",
    "# Cargar COCO\n",
    "coco_instances = COCO(instances_path)\n",
    "image_id_to_filename = {img[\"id\"]: img[\"file_name\"] for img in coco_instances.dataset[\"images\"]}\n",
    "\n",
    "vehicle_cat_ids = coco_instances.getCatIds(catNms=vehicle_classes)\n",
    "img_ids = set()\n",
    "for cat_id in vehicle_cat_ids:\n",
    "    img_ids.update(coco_instances.getImgIds(catIds=[cat_id]))\n",
    "\n",
    "selected_images = [image_id_to_filename[i] for i in list(img_ids)]\n",
    "\n",
    "# Copiar imágenes filtradas\n",
    "for filename in tqdm(selected_images, desc=\"Copiando imágenes con vehículos\"):\n",
    "    src = os.path.join(image_dir, filename)\n",
    "    dst = os.path.join(output_dir, filename)\n",
    "\n",
    "    # Crear subdirectorios si los hay (COCO a veces tiene estructura anidada)\n",
    "    os.makedirs(os.path.dirname(dst), exist_ok=True)\n",
    "\n",
    "    if not os.path.exists(dst):\n",
    "        shutil.copy2(src, dst)\n",
    "\n",
    "print(f\"\\n✅ {len(selected_images)} imágenes copiadas a {output_dir}\")\n"
   ]
  }
 ],
 "metadata": {
  "kernelspec": {
   "display_name": "dino",
   "language": "python",
   "name": "python3"
  },
  "language_info": {
   "codemirror_mode": {
    "name": "ipython",
    "version": 3
   },
   "file_extension": ".py",
   "mimetype": "text/x-python",
   "name": "python",
   "nbconvert_exporter": "python",
   "pygments_lexer": "ipython3",
   "version": "3.10.18"
  }
 },
 "nbformat": 4,
 "nbformat_minor": 5
}
